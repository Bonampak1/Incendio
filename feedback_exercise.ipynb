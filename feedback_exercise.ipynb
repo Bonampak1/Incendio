{
 "cells": [
  {
   "cell_type": "markdown",
   "id": "bcc3cc8c",
   "metadata": {},
   "source": [
    "### Proposal Feedback Exercise\n",
    "\n",
    "We were given feedback by Dr. Hannah Little and Arpit Patil.\n",
    "\n",
    "**Issues**\n",
    "    \n",
    "1. Categorizing fires and making potentially predicting fire type. <br>\n",
    "    We plan on potentially using this idea for our final analysis. This would mean that we would have to identify categories in the from the fire data attributes.\n",
    "    \n",
    "    \n",
    "2. Grouping fire data and air quality by location. <br>\n",
    "    We plan on potentially grouping the fire data by state or by air quality site. The locations for the air quality are already grouped by site and state so we would not have to address this issue.\n",
    "    \n",
    "    \n",
    "3. Using fire data to predict air quality. <br>\n",
    "    We noted that there should be an effect on air quality due to wild fires, and we plan to explore that and potentially create a moving average rather than completely predicting the air quality. However, we also realized that there are other factors that play into prediction air quality. These factors include weather and wind patterns, geographical locations, and carbon emissions.\n",
    "   \n",
    "   \n",
    "4. Looking at fire data over time and determining fire risk score by location. <br>\n",
    "    This suggestion was also a good idea to use for our final analysis. Furthermore, this would require looking for geographical fire patterns over time. We plan on looking at fire data from 2001 to 2021\n",
    "    \n",
    "    \n",
    "5. What do the data attributes really mean? <br>\n",
    "    We realized that we don't know exactly how to interpret some of the fire variables. Thus, we plan to do some research into their meaning and how they are measured.\n",
    "\n",
    "\n",
    "6. How are we determining the area of a fire and distinguishing different fires? <br>\n",
    "    We plan to identify a single fire using a group of data points with similar time frames and latitude and longitude points. Then we'll try to map it with using color to show how the fire changes over time.\n",
    "\n",
    "\n",
    "**Feedback Quality** <br>\n",
    "The feedback was really helpful. They helped us recognize that some of our expectations for further analysis would not be possible or hard to accomplish. They also gave us some new ideas for further analysis and helped us identify points in our project that were lacking.\n"
   ]
  }
 ],
 "metadata": {
  "kernelspec": {
   "display_name": "Python 3 (ipykernel)",
   "language": "python",
   "name": "python3"
  },
  "language_info": {
   "codemirror_mode": {
    "name": "ipython",
    "version": 3
   },
   "file_extension": ".py",
   "mimetype": "text/x-python",
   "name": "python",
   "nbconvert_exporter": "python",
   "pygments_lexer": "ipython3",
   "version": "3.9.13"
  }
 },
 "nbformat": 4,
 "nbformat_minor": 5
}
