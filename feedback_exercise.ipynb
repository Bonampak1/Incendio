{
 "cells": [
  {
   "cell_type": "markdown",
   "id": "bcc3cc8c",
   "metadata": {},
   "source": [
    "# Proposal Feedback Exercise\n",
    "\n",
    "We were given feedback by Dr. Hannah Little and Arpit Patil.\n",
    "\n",
    "**Issues**\n",
    "1. Categorizing fires and making potentially predicting fire type. <br>\n",
    "2. Grouping fire data and air quality by location. <br>\n",
    "    How to merge\n",
    "3. Using fire data to predict air quality. <br>\n",
    "4. Looking at fire data over time and determining fire risk score by location. <br>\n",
    "5. What do the data attributes really mean? <br>\n",
    "6. How are we determining the area of a fire and distinguishing different fires? <br>\n",
    "\n",
    "**Feedback Quality**\n",
    "The feedback was really helpful. They helped us recognize that some of our expectations for further analysis would not be possible or hard to do.\n"
   ]
  }
 ],
 "metadata": {
  "kernelspec": {
   "display_name": "Python 3 (ipykernel)",
   "language": "python",
   "name": "python3"
  },
  "language_info": {
   "codemirror_mode": {
    "name": "ipython",
    "version": 3
   },
   "file_extension": ".py",
   "mimetype": "text/x-python",
   "name": "python",
   "nbconvert_exporter": "python",
   "pygments_lexer": "ipython3",
   "version": "3.9.13"
  }
 },
 "nbformat": 4,
 "nbformat_minor": 5
}
